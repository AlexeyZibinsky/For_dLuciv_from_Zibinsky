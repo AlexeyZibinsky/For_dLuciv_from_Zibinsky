{
 "cells": [
  {
   "cell_type": "code",
   "execution_count": 332,
   "metadata": {},
   "outputs": [],
   "source": [
    "import sqlite3 as dbms\n",
    "\n",
    "conn = dbms.connect(\"students.sqlite3\")  # Как оригинально!\n",
    "cursor = conn.cursor()"
   ]
  },
  {
   "cell_type": "code",
   "execution_count": 333,
   "metadata": {},
   "outputs": [],
   "source": [
    "with open(\"11.drop_ddl.sql\", 'r', encoding='utf-8') as f:\n",
    "    drop_ddl = f.read()\n",
    "with open(\"11.create_ddl.sql\", 'r', encoding='utf-8') as f:\n",
    "    create_ddl = f.read()"
   ]
  },
  {
   "cell_type": "code",
   "execution_count": 334,
   "metadata": {},
   "outputs": [],
   "source": [
    "if True:\n",
    "    cursor.executescript(drop_ddl)\n",
    "    conn.commit()\n",
    "if True:\n",
    "    cursor.executescript(create_ddl)\n",
    "    conn.commit()"
   ]
  },
  {
   "cell_type": "code",
   "execution_count": 335,
   "metadata": {},
   "outputs": [],
   "source": [
    "import sqlalchemy\n",
    "from sqlalchemy import Table, Column, Integer, String, MetaData, ForeignKey\n",
    "from sqlalchemy.orm import sessionmaker, relationship\n",
    "from sqlalchemy.ext.declarative import declarative_base\n",
    "\n",
    "DeclBase = declarative_base()\n",
    "\n",
    "engine = sqlalchemy.create_engine('sqlite:///students.sqlite3', echo=False)  # echo=True для логгинга\n",
    "Session = sessionmaker(bind=engine)\n",
    "session = Session()"
   ]
  },
  {
   "cell_type": "code",
   "execution_count": 336,
   "metadata": {},
   "outputs": [],
   "source": [
    "class Program(DeclBase):\n",
    "    __tablename__ = 'programs'\n",
    "    id = Column(Integer, primary_key=True)\n",
    "    name = Column(String)\n",
    "\n",
    "    students = relationship(\"Student\", backref=\"program\")\n",
    "    programs_courses = relationship(\"Program_course\", backref=\"program\")\n",
    "\n",
    "    def __init__(self, name):\n",
    "        self.name = name\n",
    "\n",
    "class Student(DeclBase):\n",
    "    __tablename__ = 'students'\n",
    "    id = Column(Integer, primary_key=True)\n",
    "    card = Column(String)\n",
    "    surname = Column(String)\n",
    "    name = Column(String)\n",
    "    patronymic = Column(String)\n",
    "    \n",
    "    program_id = Column(Integer, ForeignKey('programs.id'))\n",
    "    marks = relationship(\"Mark\", backref=\"student\")\n",
    "    \n",
    "    def __init__(self, card, surname, name, patronymic, program):\n",
    "        self.card = card\n",
    "        self.surname = surname\n",
    "        self.name = name\n",
    "        self.patronymic = patronymic\n",
    "        self.program = program\n",
    "        \n",
    "class Course(DeclBase):\n",
    "    __tablename__ = 'courses'\n",
    "    id = Column(Integer, primary_key=True)\n",
    "    name = Column(String)\n",
    "    programs_courses = relationship(\"Program_course\", backref=\"course\")\n",
    "    marks = relationship(\"Mark\", backref=\"course\")\n",
    "    teacher = \"Горячко Евгений Евгеньевич\" #по дефолту за всё отвечает Горячко\n",
    "    def __init__(self, name, teacher):\n",
    "        self.teacher = teacher #каждую дисциплину ведёт ровно один преподаватель\n",
    "        self.name = name\n",
    "        \n",
    "class Program_course(DeclBase):\n",
    "    __tablename__ = 'programs_courses'\n",
    "    semester_number = Column(Integer, primary_key=True)\n",
    "    course_id = Column(Integer, ForeignKey('courses.id'), primary_key=True)\n",
    "    program_id = Column(Integer, ForeignKey('programs.id'), primary_key=True)\n",
    "    def __init__(self, semester_number, course, program):\n",
    "        self.semester_number = semester_number\n",
    "        self.course = course\n",
    "        self.program = program\n",
    "        \n",
    "class Mark(DeclBase):\n",
    "    __tablename__ = 'marks'\n",
    "    mark = Column(Integer)\n",
    "    course_id = Column(Integer, ForeignKey('courses.id'), primary_key=True)\n",
    "    student_id = Column(Integer, ForeignKey('students.id'), primary_key=True)\n",
    "    def __init__(self, mark, student, course):\n",
    "        self.mark = mark\n",
    "        self.student = student\n",
    "        self.course = course"
   ]
  },
  {
   "cell_type": "code",
   "execution_count": 337,
   "metadata": {},
   "outputs": [],
   "source": [
    "se = Program(\"Теоретическая Физика\")\n",
    "\n",
    "st1 = Student(\"102001\", \"Зибинский\", \"Алексей\", \"Леонидович\", se)\n",
    "st2 = Student(\"102002\", \"Гусев\", \"Влад\", \"Игоревич\", se)\n",
    "c1 = Course(\"Алгебра\", \"Горячко Евгений Евгеньевич\")\n",
    "c2 = Course(\"Математический Анализ\", \"Жуков Игорь Борисович\")\n",
    "pc1 = Program_course(\"1\", c1, se)\n",
    "pc2 = Program_course(\"1\", c2, se)\n",
    "m1 = Mark(\"5\", st1, c1)\n",
    "m2 = Mark(\"5\", st1, c2)\n",
    "m3 = Mark(\"4\", st2, c1)\n",
    "m4 = Mark(\"4\", st2, c2)\n",
    "\n",
    "\n",
    "session.add_all([st1, st2, c1, c2, pc1, pc2, m1, m2, m3, m4]) \n",
    "session.commit()"
   ]
  },
  {
   "cell_type": "code",
   "execution_count": 338,
   "metadata": {},
   "outputs": [],
   "source": [
    "se = Program(\"Программная инженерия\")\n",
    "\n",
    "st1 = Student(\"002004\", \"Рабош\", \"Артём\", \"Леонидович\", se)\n",
    "st2 = Student(\"002003\", \"Табуев\", \"Анри\", \"Сосланович\", se)\n",
    "c1 = Course(\"Дискретная математика для программистов\", \"Новиков Фёдор Александрович\")\n",
    "pc1 = Program_course(\"2\", c1, se)\n",
    "m1 = Mark(\"2\", st1, c1)\n",
    "m2 = Mark(\"2\", st2, c1)\n",
    "\n",
    "\n",
    "session.add_all([st1, st2, c1, pc1, m1, m2]) \n",
    "session.commit()"
   ]
  },
  {
   "cell_type": "code",
   "execution_count": 339,
   "metadata": {},
   "outputs": [
    {
     "name": "stdout",
     "output_type": "stream",
     "text": [
      "Программы и студенты\n",
      "\n",
      "Программа и изучаемые дисциплины:  Теоретическая Физика\n",
      "Студенты:\n",
      "-  Зибинский Алексей Леонидович\n",
      "-  Гусев Влад Игоревич\n",
      "Дисциплины:\n",
      "-  Алгебра в семестре номер 1 с преподавателем Горячко Евгений Евгеньевич\n",
      "-  Математический Анализ в семестре номер 1 с преподавателем Жуков Игорь Борисович\n",
      "\n",
      "Программа и изучаемые дисциплины:  Программная инженерия\n",
      "Студенты:\n",
      "-  Рабош Артём Леонидович\n",
      "-  Табуев Анри Сосланович\n",
      "Дисциплины:\n",
      "-  Дискретная математика для программистов в семестре номер 2 с преподавателем Новиков Фёдор Александрович\n",
      "\n",
      "Оценки:\n",
      "\n",
      "Студент Зибинский Алексей и его оценки:\n",
      "-  5 по дисциплине Алгебра\n",
      "-  5 по дисциплине Математический Анализ\n",
      "\n",
      "Студент Гусев Влад и его оценки:\n",
      "-  4 по дисциплине Алгебра\n",
      "-  4 по дисциплине Математический Анализ\n",
      "\n",
      "Студент Рабош Артём и его оценки:\n",
      "-  2 по дисциплине Дискретная математика для программистов\n",
      "\n",
      "Студент Табуев Анри и его оценки:\n",
      "-  2 по дисциплине Дискретная математика для программистов\n"
     ]
    }
   ],
   "source": [
    "import sys\n",
    "\n",
    "print(\"Программы и студенты\")\n",
    "for p in session.query(Program):\n",
    "    print(\"\")\n",
    "    print(\"Программа и изучаемые дисциплины: \", p.name)\n",
    "    print(\"Студенты:\")\n",
    "    for s in p.students:\n",
    "        print(\"- \", s.surname,s.name, s.patronymic)\n",
    "    print(\"Дисциплины:\")\n",
    "    for s in p.programs_courses:\n",
    "        print(\"- \",s.course.name,\"в семестре номер\", s.semester_number, \"с преподавателем\", s.course.teacher)\n",
    "print(\"\")\n",
    "print(\"Оценки:\")\n",
    "for p in session.query(Student):\n",
    "    print(\"\")\n",
    "    print(\"Студент\", p.surname, p.name, \"и его оценки:\")\n",
    "    for s in p.marks:\n",
    "        print(\"- \", s.mark, \"по дисциплине\", s.course.name)"
   ]
  },
  {
   "cell_type": "code",
   "execution_count": null,
   "metadata": {},
   "outputs": [],
   "source": []
  }
 ],
 "metadata": {
  "kernelspec": {
   "display_name": "Python 3",
   "language": "python",
   "name": "python3"
  },
  "language_info": {
   "codemirror_mode": {
    "name": "ipython",
    "version": 3
   },
   "file_extension": ".py",
   "mimetype": "text/x-python",
   "name": "python",
   "nbconvert_exporter": "python",
   "pygments_lexer": "ipython3",
   "version": "3.8.5"
  }
 },
 "nbformat": 4,
 "nbformat_minor": 4
}
