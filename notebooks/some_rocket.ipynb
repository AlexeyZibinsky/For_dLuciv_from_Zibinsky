{
 "cells": [
  {
   "cell_type": "markdown",
   "metadata": {},
   "source": [
    "# Классы. Простейшая ракета.\n"
   ]
  },
  {
   "cell_type": "code",
   "execution_count": null,
   "metadata": {},
   "outputs": [],
   "source": [
    "import math\n",
    "\n",
    "MODEL_G = 9.81\n",
    "MODEL_DT = 0.001\n",
    "MODEL_DM = 0.01\n",
    "\n",
    "class Body:\n",
    "    def __init__(self, x, y, vx, vy):\n",
    "        \"\"\"\n",
    "        Создать тело.\n",
    "        \n",
    "        Пареметры:\n",
    "        ----------\n",
    "        x: float\n",
    "            горизонтальная координата\n",
    "        y: float\n",
    "            вертикальная координата\n",
    "        vx: float\n",
    "            горизонтальная скорость\n",
    "        vy: float\n",
    "            вертикальная скорость\n",
    "        \"\"\"\n",
    "\n",
    "        self.x = x\n",
    "        self.y = y\n",
    "        self.vx = vx\n",
    "        self.vy = vy\n",
    "        \n",
    "        self.trajectory_x = []\n",
    "        self.trajectory_y = []\n",
    "        \n",
    "\n",
    "    def advance(self):\n",
    "        \"\"\"\n",
    "        Выполнить шаг мат. модели применительно к телу, предварительно записав его координаты\n",
    "        \"\"\"\n",
    "        self.trajectory_x.append(self.x)\n",
    "        self.trajectory_y.append(self.y)\n",
    "        \n",
    "        self.x += self.vx * MODEL_DT\n",
    "        self.y += self.vy * MODEL_DT\n",
    "        self.vy -= MODEL_G * MODEL_DT"
   ]
  },
  {
   "cell_type": "markdown",
   "metadata": {},
   "source": [
    "По II Закону Ньютона: \n",
    "\n",
    "$ \\vec{f} dt = \\vec{p(t + dt)} - \\vec{p(t)} $\n",
    "\n",
    "$ \\vec{f} dt = (m - dm)(\\vec{v} + \\vec{dv}) +(\\vec{u} + \\vec{v})dm, \\; \\; dm>0, \\; \\vec{u} -относительная \\; скорость \\; истечения \\; газов $\n",
    "\n",
    "Так как действие тяжести мы уже считаем (класс body), то достаточно рассмотреть суперпозицию реактивного движения в отсутствие силы тяжести и свободного движения по параболе (класс body) и просто прибавить соответствующие приращения.\n",
    "\n",
    "Рассмотрим движение в отсутствие силы тяжести ($ \\vec{f} = \\vec{0} $). Раскроем скобки, приведём подобные и получим: (штрихи расставлены на приращения скорости без учёта действия силы тяжести)\n",
    "\n",
    "$ \\vec{f} dt = m \\vec{dv'} + \\vec{u} dm $\n",
    "\n",
    "$ Ox: \\; 0 = m dv'_x - u_x dm \\; => \\; dv'_x = u_x \\frac{dm}{m} $\n",
    "\n",
    "$ Oy: \\; 0 = m dv'_y - u_y dm \\; => \\; dv'_y = u_y \\frac{dm}{m}  $\n",
    "\n",
    "$ dv' = u \\frac{dm}{m} $\n",
    "\n",
    "$u_x = u \\: cos \\alpha, \\; u_y = u \\: sin \\alpha , \\; sin \\alpha = \\frac{v_y}{v} , \\; cos \\alpha = \\frac{v_x}{v}, \\; v = \\sqrt{v_x^2 + v_y^2} $\n",
    "\n",
    "таким образом:\n",
    "\n",
    "$ dv'_y = u \\frac{v_y}{v} \\frac{dm}{m}  $\n",
    "\n",
    "$ dv'_x = u \\frac{v_x}{v} \\frac{dm}{m} $\n",
    "\n",
    "Всё в порядке, соответствие с формулой циолковского наблюдается :)"
   ]
  },
  {
   "cell_type": "code",
   "execution_count": null,
   "metadata": {},
   "outputs": [],
   "source": [
    "class Rocket(Body):\n",
    "    def __init__(self, x, y):\n",
    "        \"\"\"\n",
    "        Создать ракету.\n",
    "        \n",
    "        Пареметры:\n",
    "        ----------\n",
    "        x: float\n",
    "            горизонтальная координата\n",
    "        y: float\n",
    "            вертикальная координата\n",
    "        \"\"\"\n",
    "        super().__init__(x, y, 10, 10) # Вызовем конструктор предка — тела, т.к. он для ракеты актуален\n",
    "        self.m = 30 # Масса нашей ракеты\n",
    "        self.u = 40 # Скорость истечения газов отн ракеты\n",
    "        self.mass_without_fuel = 25 # Масса ракеты когда прогорел порох\n",
    "\n",
    "    def advance(self):\n",
    "        super().advance() # вызовем метод предка — тела, т.к. и он для ракеты актуален.\n",
    "        if self.m > self.mass_without_fuel:\n",
    "            self.m -= MODEL_DM\n",
    "            v = (self.vx**2 + self.vy**2)**0.5 # Модуль скорости\n",
    "            self.vx += self.u*(self.vx/v)*(MODEL_DM/self.m) # Тот самый dv'_x, что мы рассчитали выше\n",
    "            self.vy += self.u*(self.vy/v)*(MODEL_DM/self.m) # Тот самый dv'_y, что мы рассчитали выше\n",
    "        \n",
    "        "
   ]
  },
  {
   "cell_type": "code",
   "execution_count": null,
   "metadata": {
    "scrolled": true
   },
   "outputs": [],
   "source": [
    "import numpy as np\n",
    "\n",
    "np.sin\n",
    "\n",
    "b = Body(0, 0, 10, 10)\n",
    "r = Rocket(0, 0)\n",
    "\n",
    "bodies = [b, r]\n",
    "# Дальше мы уже не будем думать, кто тут ёжик, кто ракета, а кто котлета —\n",
    "# благодаря возможностям ООП будем просто работать со списком тел\n",
    "\n",
    "for t in np.r_[0:2:MODEL_DT]: # для всех временных отрезков\n",
    "    for b in bodies: # для всех тел\n",
    "        b.advance() # выполним шаг"
   ]
  },
  {
   "cell_type": "code",
   "execution_count": null,
   "metadata": {},
   "outputs": [],
   "source": [
    "%matplotlib inline\n",
    "from matplotlib import pyplot as pp\n",
    "\n",
    "for b in bodies: # для всех тел\n",
    "    pp.plot(b.trajectory_x, b.trajectory_y) # нарисуем их траектории"
   ]
  },
  {
   "cell_type": "markdown",
   "metadata": {},
   "source": [
    "# Вот и всё!\n",
    "\n",
    "На мой взгляд, получилось достаточно физично, но сухо. Однако главное, что работает!"
   ]
  }
 ],
 "metadata": {
  "kernelspec": {
   "display_name": "Python 3",
   "language": "python",
   "name": "python3"
  },
  "language_info": {
   "codemirror_mode": {
    "name": "ipython",
    "version": 3
   },
   "file_extension": ".py",
   "mimetype": "text/x-python",
   "name": "python",
   "nbconvert_exporter": "python",
   "pygments_lexer": "ipython3",
   "version": "3.8.5"
  }
 },
 "nbformat": 4,
 "nbformat_minor": 4
}
