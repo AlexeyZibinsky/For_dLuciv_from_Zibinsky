{
  "nbformat": 4,
  "nbformat_minor": 0,
  "metadata": {
    "anaconda-cloud": {},
    "colab": {
      "name": "10.d.PythonNN_More_Keras_COLAB.ipynb",
      "provenance": [],
      "collapsed_sections": []
    },
    "kernelspec": {
      "display_name": "Python 3",
      "language": "python",
      "name": "python3"
    },
    "language_info": {
      "codemirror_mode": {
        "name": "ipython",
        "version": 3
      },
      "file_extension": ".py",
      "mimetype": "text/x-python",
      "name": "python",
      "nbconvert_exporter": "python",
      "pygments_lexer": "ipython3",
      "version": "3.9.5"
    },
    "accelerator": "GPU"
  },
  "cells": [
    {
      "cell_type": "markdown",
      "metadata": {
        "id": "KFRVyDN0LLv9"
      },
      "source": [
        "# Попадает ли точка в фигуру?\n",
        "\n",
        "Потребуются `pip install tensorflow keras`"
      ]
    },
    {
      "cell_type": "markdown",
      "metadata": {
        "id": "bU8j5d4FER_d"
      },
      "source": [
        ""
      ]
    },
    {
      "cell_type": "code",
      "metadata": {
        "id": "FWbU7QflLLwF"
      },
      "source": [
        "import os\n",
        "import numpy as np\n",
        "import math\n",
        "from tensorflow.keras import models, layers"
      ],
      "execution_count": 8,
      "outputs": []
    },
    {
      "cell_type": "markdown",
      "metadata": {
        "id": "gqIQrTlRLLwG"
      },
      "source": [
        "`XY` — 1000000 случайных точек, `Z` — попадает точка в фигуру (1) или нет (0)"
      ]
    },
    {
      "cell_type": "code",
      "metadata": {
        "id": "IcNuU3vBLLwH"
      },
      "source": [
        "  XY = np.random.random((1_000_000, 2)).astype(np.float32) * 4.0 - 2.0\n",
        "\n",
        "  Z = np.array([\n",
        "    1 if (x**2)**(0.33) + (y**2)**(0.33) <= (1.5)**(0.33) else 0\n",
        "    for [x, y] in XY\n",
        "  ], dtype=np.float32)"
      ],
      "execution_count": 9,
      "outputs": []
    },
    {
      "cell_type": "code",
      "metadata": {
        "id": "kgHfCXeBLLwI"
      },
      "source": [
        "model = models.Sequential([\n",
        "    layers.InputLayer(input_shape=(2,)),\n",
        "    layers.Dense(100, activation='sigmoid', use_bias=True),\n",
        "    layers.Dense(20, activation='sigmoid', use_bias=True),\n",
        "    layers.Dense(1, activation='sigmoid', use_bias=False)\n",
        "])\n",
        "\n",
        "model.compile(\n",
        "    loss='mean_squared_error',\n",
        "    optimizer='adam',\n",
        "    metrics='accuracy'\n",
        ")"
      ],
      "execution_count": 11,
      "outputs": []
    },
    {
      "cell_type": "code",
      "metadata": {
        "colab": {
          "base_uri": "https://localhost:8080/"
        },
        "id": "YmH4fp2HLLwJ",
        "outputId": "64fce652-4c2c-4e44-fe34-0ec17737be29"
      },
      "source": [
        "if os.path.isfile(\"smart_duckling_colab.h5\"):\n",
        "    print(\"Loading existing synapses...\")\n",
        "    model.load_weights(\"smart_duckling_colab.h5\")\n",
        "else:\n",
        "    print(\"Training the duckling...\")\n",
        "    model.fit(\n",
        "        XY, Z,\n",
        "        epochs=1000,\n",
        "        batch_size=1000,\n",
        "        use_multiprocessing=True,\n",
        "        verbose=False\n",
        "    )\n",
        "    model.save(\"smart_duckling_colab.h5\")\n",
        "\n",
        "print(\"Done,\", model.evaluate(XY, Z))"
      ],
      "execution_count": 12,
      "outputs": [
        {
          "output_type": "stream",
          "text": [
            "Training the duckling...\n",
            "31250/31250 [==============================] - 38s 1ms/step - loss: 7.0509e-04 - accuracy: 0.9990\n",
            "Done, [0.000705092737916857, 0.9990460276603699]\n"
          ],
          "name": "stdout"
        }
      ]
    },
    {
      "cell_type": "markdown",
      "metadata": {
        "id": "Nyhhm7oELLwL"
      },
      "source": [
        "Ну и теперь посмотрим, как оно научилось ограничивать фигуру, но уже на 2500 точках..."
      ]
    },
    {
      "cell_type": "code",
      "metadata": {
        "colab": {
          "base_uri": "https://localhost:8080/",
          "height": 265
        },
        "id": "AAX6s7DmLLwL",
        "outputId": "c590f8db-d3a3-46dd-fd48-511ad7db088c"
      },
      "source": [
        "%matplotlib inline\n",
        "\n",
        "import matplotlib.pyplot as plt\n",
        "\n",
        "plt.axis('equal')\n",
        "\n",
        "c = np.linspace(-2,2,50)\n",
        "\n",
        "# https://stackoverflow.com/a/11144716/539470 =)\n",
        "XY = np.transpose([np.tile(c, len(c)), np.repeat(c, len(c))])\n",
        "\n",
        "Z = model.predict(XY)\n",
        "\n",
        "for (x, y), z in zip(XY, Z):\n",
        "    plt.scatter(x, y, c='red' if z[0] >= 0.5 else 'green', marker='.')\n",
        "\n",
        "plt.show()"
      ],
      "execution_count": 13,
      "outputs": [
        {
          "output_type": "display_data",
          "data": {
            "image/png": "[encoded data removed]",
            "text/plain": [
              "<Figure size 432x288 with 1 Axes>"
            ]
          },
          "metadata": {
            "tags": [],
            "needs_background": "light"
          }
        }
      ]
    },
    {
      "cell_type": "code",
      "metadata": {
        "colab": {
          "base_uri": "https://localhost:8080/",
          "height": 265
        },
        "id": "3wLtlZEoLLwM",
        "outputId": "e31fba5e-dd1d-4595-e15d-d467f7484e7f"
      },
      "source": [
        "def saturate(v):\n",
        "    return min(1, max(0, v))\n",
        "\n",
        "plt.axis('equal')\n",
        "\n",
        "for (x, y), z in zip(XY, Z):\n",
        "    plt.scatter(x, y, color=[(1, 1-saturate(z[0]), 1-saturate(z[0]))], marker='.')\n",
        "\n",
        "plt.show()"
      ],
      "execution_count": 56,
      "outputs": [
        {
          "output_type": "display_data",
          "data": {
            "image/png": "[encoded data removed]",
            "text/plain": [
              "<Figure size 432x288 with 1 Axes>"
            ]
          },
          "metadata": {
            "tags": [],
            "needs_background": "light"
          }
        }
      ]
    },
    {
      "cell_type": "code",
      "metadata": {
        "id": "wiOxSCRLbV9r"
      },
      "source": [
        ""
      ],
      "execution_count": null,
      "outputs": []
    }
  ]
}