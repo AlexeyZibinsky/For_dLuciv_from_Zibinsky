{
 "cells": [
  {
   "cell_type": "markdown",
   "metadata": {},
   "source": [
    "# Ряды и косинусы\n",
    "\n",
    "Здесь я напишу функцию, которая умеет вычислять косинус через ряд Тейлора.\n",
    "Для небольших x работает:\n",
    "\n",
    "$$\\cos x = 1 - \\frac{x^2}{2!} + \\frac{x^4}{4!} - \\frac{x^6}{6!} + \\ldots + R(x) = \\sum_{n=0}^N \\frac{(-1)^n x^{2n}}{(2n)!} + R(x) , x \\in \\mathbb{C} $$\n",
    "\n",
    "Это частичная сумма т.н. ряда Тейлора:\n",
    "\n",
    "$$ f(x) = f(a)+\\sum_{k=1}^\\infty {f^{(k)} (a) \\over k!} (x - a)^k. $$"
   ]
  },
  {
   "cell_type": "markdown",
   "metadata": {},
   "source": [
    "# Про мой код\n",
    "\n",
    "В целом, всё закоментированно, но стоит отметить, что вычисление косинуса суммированием ряда Тейлора \"в обратном порядке\" при очень малых значениях $x$ приводило к непонятным аномалиям, поэтому очень близ нуля будем считать с в \"прямом порядке\". Можно сказать, что это уже первые костыли :( . Дело в том, что при подсчёте ряда в \"прямом порядке\" уже при значениях аргумента близ единицы возникает неприятная погрешность, поэтому лучше так, как есть. Тем более, что откидывание всех  $2 \\pi k$ превращает график нашего многочлена в приближённый косинус на всей числовой прямой! Позже мы это увидим.\n",
    "\n",
    "Следующий кусок кода просто создаёт функцию."
   ]
  },
  {
   "cell_type": "code",
   "execution_count": 1,
   "metadata": {},
   "outputs": [
    {
     "name": "stdout",
     "output_type": "stream",
     "text": [
      "Help on function my_cos in module __main__:\n",
      "\n",
      "my_cos(x, factorial)\n",
      "    Вычисление косинуса при помощи частичного суммирования\n",
      "    ряда Тейлора \"в обратном порядке\".\n",
      "\n"
     ]
    }
   ],
   "source": [
    "#Сразу импортируем модули и библиотеки, которые понадобятся.\n",
    "import math\n",
    "import cmath\n",
    "import numpy\n",
    "import matplotlib.pyplot as mpp\n",
    "\n",
    "ITERATIONS = 50\n",
    "\n",
    "def factorial(a):\n",
    "    \"\"\"Лень копаться со встроенными факториалами, напишу свой \"\"\"\n",
    "    if a == 0:\n",
    "        return 1\n",
    "    return a*factorial(a-1)\n",
    "\n",
    "def my_cos(x, factorial):\n",
    "    \"\"\"\n",
    "    Вычисление косинуса при помощи частичного суммирования\n",
    "    ряда Тейлора \"в обратном порядке\".\n",
    "    \"\"\"\n",
    "    if type(x) != complex and x >= 10**8: #Встроенная самооборона программы\n",
    "        print('Вы меня убить хотите?')\n",
    "        return 'Не убивайте :(  введите лучше число поменьше, я всего лишь студенческая программа.'\n",
    "    \n",
    "    # Найдём аргумент из полуинтервала [0, 2*pi), эквивалентный введённому\n",
    "    if type(x) != complex:\n",
    "        x = abs(x)          # т.к. косинус - чётная функция\n",
    "        while x > 2*math.pi:\n",
    "            x -= 2*math.pi\n",
    "        if x == 0:\n",
    "            return 1.0\n",
    "    \n",
    "    # Найдём последний член, т.е. под номером ITERATIONS+1\n",
    "    slagaemoe = (((-1)**ITERATIONS)*(x**(2*ITERATIONS))) / (factorial(2*ITERATIONS))\n",
    "    partial_sum = 0 # Сюда будем запихивать сумму ряда\n",
    "    if abs(x) >= 0.1: # Иначе аномалии близ нуля, т.к. в цикле я делю на аргумент.\n",
    "        for n in range(ITERATIONS, 0, -1):\n",
    "            slagaemoe /= x**2 # Уменьшаем степень\n",
    "            slagaemoe *= -1 * (2*n-1) * 2*n # Уменьшаем факториал в знаменателе и меняем знак\n",
    "            partial_sum += slagaemoe # Добавляем слагаемое в сумму\n",
    "        return partial_sum\n",
    "    else:             # Близ нуля считаем ряд в \"прямом порядке\"\n",
    "        x_pow = 1\n",
    "        multiplier = 1\n",
    "        partial_sum = 1\n",
    "        for n in range(1, ITERATIONS):\n",
    "            x_pow *= x**2 # Увеличиваем степень\n",
    "            multiplier *= -1 / (2*n-1) / 2*n # Увеличиваем факториал в знаменателе и меняем знак\n",
    "            partial_sum += x_pow * multiplier #добавляем слагаемое в сумму\n",
    "        return partial_sum\n",
    "\n",
    "help(my_cos)"
   ]
  },
  {
   "cell_type": "markdown",
   "metadata": {},
   "source": [
    "Теперь давайте сравним наш косинус со стандартным библиотечным:"
   ]
  },
  {
   "cell_type": "code",
   "execution_count": null,
   "metadata": {},
   "outputs": [],
   "source": [
    "while True:\n",
    "    argument=float(input('введите значение аргумента: '))\n",
    "    print('питоновский косинус:', math.cos(argument))\n",
    "    print('мой косинус:       ', my_cos(argument, factorial))\n",
    "    print('')\n",
    "    if input('Введите bl, если хотите повторить. Иначе press Enter. ') != 'bl':\n",
    "        break\n",
    "        "
   ]
  },
  {
   "cell_type": "markdown",
   "metadata": {},
   "source": [
    "Неплохая точность, хоть и не филигранно. Ну, зато наш косинус умеет и в комплексные числа. Правда здесь уже косинус комплексного аргумента получается точным лишь при малых мнимой и действительной частях (по тестам где-то до 40 работает норм, а дальше уже неточность...)."
   ]
  },
  {
   "cell_type": "code",
   "execution_count": null,
   "metadata": {},
   "outputs": [],
   "source": [
    "while True:\n",
    "    re_argument = float(input('введите действительную часть аргумента: '))\n",
    "    im_argument = float(input('введите мнимую часть аргумента: '))\n",
    "    argument = complex(re_argument, im_argument)\n",
    "    print('наш аргумент:', argument)\n",
    "    print('питоновский complex косинус:', cmath.cos(argument))\n",
    "    print('мой comlex косинус:        ', my_cos(argument, factorial))\n",
    "    print('')\n",
    "    if input('Введите bl, если хотите повторить. Иначе press Enter. ') != 'bl':\n",
    "        break\n",
    "        "
   ]
  },
  {
   "cell_type": "markdown",
   "metadata": {},
   "source": [
    "Следующий кусок может удивить искушённого читателя. Оказывается, косинус может достигнуть пяти! Но ведь синус тоже... Ну, мой косинус может достигать даже шести."
   ]
  },
  {
   "cell_type": "code",
   "execution_count": null,
   "metadata": {},
   "outputs": [],
   "source": [
    "print('')\n",
    "print('Рассмотрим аргумент:', cmath.acos(6))\n",
    "print('Косинус из numpy: cos(-2.477888730288475j) =',numpy.cos(-2.477888730288475j))\n",
    "print('Мой косинус: cos(-2.477888730288475j) =',my_cos(-2.477888730288475j, factorial))\n",
    "print('Как мы видим, шести косинус достигает.')\n",
    "print('')"
   ]
  },
  {
   "cell_type": "markdown",
   "metadata": {},
   "source": [
    "Теперь взглянем на графики.\n",
    "\n",
    "Сначала нарисуем косинус из библиотеки numpy:"
   ]
  },
  {
   "cell_type": "code",
   "execution_count": null,
   "metadata": {},
   "outputs": [],
   "source": [
    "%matplotlib inline\n",
    "from IPython.display import set_matplotlib_formats\n",
    "set_matplotlib_formats('pdf', 'svg')\n",
    "\n",
    "dlina = float(input('Вы вольны приказать, сколько периодов нарисовать:'))\n",
    "arguments = numpy.r_[-dlina*math.pi: dlina*math.pi: 0.01]\n",
    "mpp.title('Косинус из numpy')\n",
    "mpp.grid()\n",
    "mpp.xlabel('Аргумент')\n",
    "mpp.ylabel('Значение')\n",
    "mpp.plot(arguments, numpy.cos(arguments), color = \"blue\")\n",
    "mpp.show()"
   ]
  },
  {
   "cell_type": "markdown",
   "metadata": {},
   "source": [
    "Теперь нарисуем наш косинус:"
   ]
  },
  {
   "cell_type": "code",
   "execution_count": null,
   "metadata": {
    "scrolled": false
   },
   "outputs": [],
   "source": [
    "%matplotlib inline\n",
    "from IPython.display import set_matplotlib_formats\n",
    "set_matplotlib_formats('pdf', 'svg')\n",
    "\n",
    "dlina = float(input('Вы вольны приказать, сколько периодов нарисовать:'))\n",
    "arguments = numpy.r_[-dlina*math.pi: dlina*math.pi: 0.01]\n",
    "mpp.title('Наш Косинус')\n",
    "mpp.grid()\n",
    "mpp.xlabel('Аргумент')\n",
    "mpp.ylabel('Значение')\n",
    "mpp.plot(arguments, [my_cos(x, factorial) for x in arguments], color = \"red\")\n",
    "mpp.show()"
   ]
  },
  {
   "cell_type": "markdown",
   "metadata": {},
   "source": [
    "Обратим внимание, что как бы много периодов мы не нарисовали, многочлен нигде не \"выстреливает\". Это плоды того, что мы откидываем у нашего аргумента все лишние $2 \\pi k$\n",
    "\n",
    "Спасибо за внимание!"
   ]
  }
 ],
 "metadata": {
  "kernelspec": {
   "display_name": "Python 3",
   "language": "python",
   "name": "python3"
  },
  "language_info": {
   "codemirror_mode": {
    "name": "ipython",
    "version": 3
   },
   "file_extension": ".py",
   "mimetype": "text/x-python",
   "name": "python",
   "nbconvert_exporter": "python",
   "pygments_lexer": "ipython3",
   "version": "3.8.5"
  }
 },
 "nbformat": 4,
 "nbformat_minor": 4
}
